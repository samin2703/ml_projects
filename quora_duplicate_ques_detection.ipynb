{
 "cells": [
  {
   "cell_type": "markdown",
   "id": "cbe53d82",
   "metadata": {},
   "source": [
    "## NLP Project on Quora Duplicate Questions Pair Identification"
   ]
  },
  {
   "cell_type": "markdown",
   "id": "b1ee0853",
   "metadata": {},
   "source": [
    "   #### Problem Statement and Objective\n",
    "   \n",
    "   In the online world, people tend to ask the same questions in various ways, especially on platforms like Quora. This         creates confusion for readers and makes it challenging for businesses to provide consistent answers. The goal of this         article is to explore how NLP (Natural Language Processing) and machine learning can be used to develop a system that         identifies and responds to similar queries. Businesses are seeking a solution to save time and effort by automating the       process of recognizing and answering similar questions across different expressions."
   ]
  },
  {
   "cell_type": "markdown",
   "id": "b3c2763b",
   "metadata": {},
   "source": [
    "#### Dataset Description\n",
    "The dataset chosen for this NLP project is from a renowned Kaggle competition hosted by Quora, offering a prize of $25,000. The dataset consists of five columns, featuring two columns with distinct questions, two columns containing the corresponding question IDs, and a final column indicating the target variable. The target variable is binary, with a value of 1 denoting duplicate questions and 0 indicating non-duplicate ones.\n",
    "\n",
    "link: https://www.kaggle.com/c/quora-question-pairs/data?select=train.csv.zip"
   ]
  },
  {
   "cell_type": "markdown",
   "id": "3f367139",
   "metadata": {},
   "source": [
    "### Project Development Overflow\n",
    "Basic Data Analysis --->\n",
    "Feature Engineering --->\n",
    "Model Development   --->\n",
    "Optimize the model to increase performance"
   ]
  },
  {
   "cell_type": "markdown",
   "id": "4efb7f76",
   "metadata": {},
   "source": [
    "# Basic Data Analysis"
   ]
  },
  {
   "cell_type": "markdown",
   "id": "95b6c2ac",
   "metadata": {},
   "source": [
    "#### 1.Load the Dataset"
   ]
  },
  {
   "cell_type": "code",
   "execution_count": 1,
   "id": "c0b66ee2",
   "metadata": {},
   "outputs": [
    {
     "data": {
      "text/plain": [
       "(404351, 6)"
      ]
     },
     "execution_count": 1,
     "metadata": {},
     "output_type": "execute_result"
    }
   ],
   "source": [
    "import numpy as np\n",
    "import pandas as pd\n",
    "import matplotlib.pyplot as plt\n",
    "import seaborn as sns\n",
    "\n",
    "import warnings\n",
    "warnings.filterwarnings('ignore')\n",
    "\n",
    "df = pd.read_csv('questions.csv')\n",
    "df.shape"
   ]
  },
  {
   "cell_type": "code",
   "execution_count": 2,
   "id": "ed1c2f3a",
   "metadata": {},
   "outputs": [
    {
     "data": {
      "text/html": [
       "<div>\n",
       "<style scoped>\n",
       "    .dataframe tbody tr th:only-of-type {\n",
       "        vertical-align: middle;\n",
       "    }\n",
       "\n",
       "    .dataframe tbody tr th {\n",
       "        vertical-align: top;\n",
       "    }\n",
       "\n",
       "    .dataframe thead th {\n",
       "        text-align: right;\n",
       "    }\n",
       "</style>\n",
       "<table border=\"1\" class=\"dataframe\">\n",
       "  <thead>\n",
       "    <tr style=\"text-align: right;\">\n",
       "      <th></th>\n",
       "      <th>id</th>\n",
       "      <th>qid1</th>\n",
       "      <th>qid2</th>\n",
       "      <th>question1</th>\n",
       "      <th>question2</th>\n",
       "      <th>is_duplicate</th>\n",
       "    </tr>\n",
       "  </thead>\n",
       "  <tbody>\n",
       "    <tr>\n",
       "      <th>5</th>\n",
       "      <td>5</td>\n",
       "      <td>11</td>\n",
       "      <td>12</td>\n",
       "      <td>Astrology: I am a Capricorn Sun Cap moon and c...</td>\n",
       "      <td>I'm a triple Capricorn (Sun, Moon and ascendan...</td>\n",
       "      <td>1</td>\n",
       "    </tr>\n",
       "    <tr>\n",
       "      <th>7</th>\n",
       "      <td>7</td>\n",
       "      <td>15</td>\n",
       "      <td>16</td>\n",
       "      <td>How can I be a good geologist?</td>\n",
       "      <td>What should I do to be a great geologist?</td>\n",
       "      <td>1</td>\n",
       "    </tr>\n",
       "    <tr>\n",
       "      <th>11</th>\n",
       "      <td>11</td>\n",
       "      <td>23</td>\n",
       "      <td>24</td>\n",
       "      <td>How do I read and find my YouTube comments?</td>\n",
       "      <td>How can I see all my Youtube comments?</td>\n",
       "      <td>1</td>\n",
       "    </tr>\n",
       "    <tr>\n",
       "      <th>12</th>\n",
       "      <td>12</td>\n",
       "      <td>25</td>\n",
       "      <td>26</td>\n",
       "      <td>What can make Physics easy to learn?</td>\n",
       "      <td>How can you make physics easy to learn?</td>\n",
       "      <td>1</td>\n",
       "    </tr>\n",
       "    <tr>\n",
       "      <th>13</th>\n",
       "      <td>13</td>\n",
       "      <td>27</td>\n",
       "      <td>28</td>\n",
       "      <td>What was your first sexual experience like?</td>\n",
       "      <td>What was your first sexual experience?</td>\n",
       "      <td>1</td>\n",
       "    </tr>\n",
       "  </tbody>\n",
       "</table>\n",
       "</div>"
      ],
      "text/plain": [
       "    id  qid1  qid2                                          question1  \\\n",
       "5    5    11    12  Astrology: I am a Capricorn Sun Cap moon and c...   \n",
       "7    7    15    16                     How can I be a good geologist?   \n",
       "11  11    23    24        How do I read and find my YouTube comments?   \n",
       "12  12    25    26               What can make Physics easy to learn?   \n",
       "13  13    27    28        What was your first sexual experience like?   \n",
       "\n",
       "                                            question2  is_duplicate  \n",
       "5   I'm a triple Capricorn (Sun, Moon and ascendan...             1  \n",
       "7           What should I do to be a great geologist?             1  \n",
       "11             How can I see all my Youtube comments?             1  \n",
       "12            How can you make physics easy to learn?             1  \n",
       "13             What was your first sexual experience?             1  "
      ]
     },
     "execution_count": 2,
     "metadata": {},
     "output_type": "execute_result"
    }
   ],
   "source": [
    "# the dataset is too large for our RAM. So we take a sample dataset\n",
    "df_pos = df[df['is_duplicate']==1]\n",
    "df_neg = df[df['is_duplicate']==0]\n",
    "df = pd.concat([df_pos[:7500], df_neg[:7500]], axis=0)\n",
    "df.head()"
   ]
  },
  {
   "cell_type": "code",
   "execution_count": 3,
   "id": "923f62c4",
   "metadata": {},
   "outputs": [
    {
     "name": "stderr",
     "output_type": "stream",
     "text": [
      "Processing Quora Data: 100%|███████████████████████████████████████████████████| 15000/15000 [00:05<00:00, 2556.75it/s]\n"
     ]
    },
    {
     "data": {
      "text/html": [
       "<div>\n",
       "<style scoped>\n",
       "    .dataframe tbody tr th:only-of-type {\n",
       "        vertical-align: middle;\n",
       "    }\n",
       "\n",
       "    .dataframe tbody tr th {\n",
       "        vertical-align: top;\n",
       "    }\n",
       "\n",
       "    .dataframe thead th {\n",
       "        text-align: right;\n",
       "    }\n",
       "</style>\n",
       "<table border=\"1\" class=\"dataframe\">\n",
       "  <thead>\n",
       "    <tr style=\"text-align: right;\">\n",
       "      <th></th>\n",
       "      <th>id</th>\n",
       "      <th>qid1</th>\n",
       "      <th>qid2</th>\n",
       "      <th>question1</th>\n",
       "      <th>question2</th>\n",
       "      <th>is_duplicate</th>\n",
       "    </tr>\n",
       "  </thead>\n",
       "  <tbody>\n",
       "    <tr>\n",
       "      <th>5</th>\n",
       "      <td>5</td>\n",
       "      <td>11</td>\n",
       "      <td>12</td>\n",
       "      <td>astrology: i capricorn sun cap moon cap rising...</td>\n",
       "      <td>i tripl capricorn (sun, moon ascend capricorn)...</td>\n",
       "      <td>1</td>\n",
       "    </tr>\n",
       "    <tr>\n",
       "      <th>7</th>\n",
       "      <td>7</td>\n",
       "      <td>15</td>\n",
       "      <td>16</td>\n",
       "      <td>how i good geologist?</td>\n",
       "      <td>what i great geologist?</td>\n",
       "      <td>1</td>\n",
       "    </tr>\n",
       "    <tr>\n",
       "      <th>11</th>\n",
       "      <td>11</td>\n",
       "      <td>23</td>\n",
       "      <td>24</td>\n",
       "      <td>how i read find youtub comments?</td>\n",
       "      <td>how i see youtub comments?</td>\n",
       "      <td>1</td>\n",
       "    </tr>\n",
       "    <tr>\n",
       "      <th>12</th>\n",
       "      <td>12</td>\n",
       "      <td>25</td>\n",
       "      <td>26</td>\n",
       "      <td>what make physic easi learn?</td>\n",
       "      <td>how make physic easi learn?</td>\n",
       "      <td>1</td>\n",
       "    </tr>\n",
       "    <tr>\n",
       "      <th>13</th>\n",
       "      <td>13</td>\n",
       "      <td>27</td>\n",
       "      <td>28</td>\n",
       "      <td>what first sexual experi like?</td>\n",
       "      <td>what first sexual experience?</td>\n",
       "      <td>1</td>\n",
       "    </tr>\n",
       "  </tbody>\n",
       "</table>\n",
       "</div>"
      ],
      "text/plain": [
       "    id  qid1  qid2                                          question1  \\\n",
       "5    5    11    12  astrology: i capricorn sun cap moon cap rising...   \n",
       "7    7    15    16                              how i good geologist?   \n",
       "11  11    23    24                   how i read find youtub comments?   \n",
       "12  12    25    26                       what make physic easi learn?   \n",
       "13  13    27    28                     what first sexual experi like?   \n",
       "\n",
       "                                            question2  is_duplicate  \n",
       "5   i tripl capricorn (sun, moon ascend capricorn)...             1  \n",
       "7                             what i great geologist?             1  \n",
       "11                         how i see youtub comments?             1  \n",
       "12                        how make physic easi learn?             1  \n",
       "13                      what first sexual experience?             1  "
      ]
     },
     "execution_count": 3,
     "metadata": {},
     "output_type": "execute_result"
    }
   ],
   "source": [
    "import pandas as pd\n",
    "\n",
    "def text_processing_quora_separate(data):\n",
    "    from bs4 import BeautifulSoup\n",
    "    import re\n",
    "    from nltk.corpus import stopwords\n",
    "    from tqdm import tqdm\n",
    "    from nltk.stem import PorterStemmer\n",
    "\n",
    "    def decontracted(phrase):\n",
    "        # specific\n",
    "        phrase = re.sub(r'<br /><br />', ' ', phrase)\n",
    "        phrase = re.sub(r\"won't\", \"will not\", phrase)\n",
    "        phrase = re.sub(r\"can\\'t\", \"can not\", phrase)\n",
    "\n",
    "        # general\n",
    "        phrase = re.sub(r\"n\\'t\", \" not\", phrase)\n",
    "        phrase = re.sub(r\"\\'re\", \" are\", phrase)\n",
    "        phrase = re.sub(r\"\\'s\", \" is\", phrase)\n",
    "        phrase = re.sub(r\"\\'d\", \" would\", phrase)\n",
    "        phrase = re.sub(r\"\\'ll\", \" will\", phrase)\n",
    "        phrase = re.sub(r\"\\'t\", \" not\", phrase)\n",
    "        phrase = re.sub(r\"\\'ve\", \" have\", phrase)\n",
    "        phrase = re.sub(r\"\\'m\", \" am\", phrase)\n",
    "        phrase = re.sub(r'\"', \" \", phrase)\n",
    "        return phrase\n",
    "\n",
    "    stopwords_set = set(stopwords.words(\"english\"))\n",
    "\n",
    "    preprocessed_question1 = []\n",
    "    preprocessed_question2 = []\n",
    "    porter = PorterStemmer()\n",
    "\n",
    "    # tqdm is for printing the status bar\n",
    "    for row in tqdm(data.itertuples(), total=len(data), desc=\"Processing Quora Data\"):\n",
    "        q1 = row.question1\n",
    "        q2 = row.question2\n",
    "\n",
    "        # Process question1\n",
    "        processed_q1 = re.sub(r\"http\\S+\", \"\", q1)\n",
    "        processed_q1 = decontracted(processed_q1)\n",
    "        processed_q1 = re.sub(\"\\S*\\d\\S*\", \"\", processed_q1).strip()\n",
    "        processed_q1 = ' '.join(word.lower() for word in processed_q1.split() if word not in stopwords_set)\n",
    "        stemmed_words_q1 = [porter.stem(word) for word in processed_q1.split()]\n",
    "        preprocessed_question1.append(' '.join(stemmed_words_q1))\n",
    "\n",
    "        # Process question2\n",
    "        processed_q2 = re.sub(r\"http\\S+\", \"\", q2)\n",
    "        processed_q2 = decontracted(processed_q2)\n",
    "        processed_q2 = re.sub(\"\\S*\\d\\S*\", \"\", processed_q2).strip()\n",
    "        processed_q2 = ' '.join(word.lower() for word in processed_q2.split() if word not in stopwords_set)\n",
    "        stemmed_words_q2 = [porter.stem(word) for word in processed_q2.split()]\n",
    "        preprocessed_question2.append(' '.join(stemmed_words_q2))\n",
    "\n",
    "    return preprocessed_question1, preprocessed_question2\n",
    "\n",
    "\n",
    "\n",
    "# Preprocess the questions separately\n",
    "preprocessed_q1, preprocessed_q2 = text_processing_quora_separate(df)\n",
    "\n",
    "# Replace the original columns with the preprocessed versions\n",
    "df['question1'] = preprocessed_q1\n",
    "df['question2'] = preprocessed_q2\n",
    "\n",
    "df.head()"
   ]
  },
  {
   "cell_type": "markdown",
   "id": "21d5c204",
   "metadata": {},
   "source": [
    "#### 2.Check for Null Values"
   ]
  },
  {
   "cell_type": "code",
   "execution_count": 4,
   "id": "d8b394f4",
   "metadata": {},
   "outputs": [
    {
     "data": {
      "text/plain": [
       "id              0\n",
       "qid1            0\n",
       "qid2            0\n",
       "question1       0\n",
       "question2       0\n",
       "is_duplicate    0\n",
       "dtype: int64"
      ]
     },
     "execution_count": 4,
     "metadata": {},
     "output_type": "execute_result"
    }
   ],
   "source": [
    "df.isnull().sum()"
   ]
  },
  {
   "cell_type": "markdown",
   "id": "8ede9de5",
   "metadata": {},
   "source": [
    "so there are no null values in the dataset"
   ]
  },
  {
   "cell_type": "markdown",
   "id": "539af746",
   "metadata": {},
   "source": [
    "#### 3.Check Duplicates Distribution"
   ]
  },
  {
   "cell_type": "code",
   "execution_count": 5,
   "id": "9f9df300",
   "metadata": {},
   "outputs": [
    {
     "data": {
      "image/png": "[encoded data removed]",
      "text/plain": [
       "<Figure size 640x480 with 1 Axes>"
      ]
     },
     "metadata": {},
     "output_type": "display_data"
    }
   ],
   "source": [
    "df['is_duplicate'].value_counts().plot(kind='bar');"
   ]
  },
  {
   "cell_type": "markdown",
   "id": "e40512f5",
   "metadata": {},
   "source": [
    "#### 4.Check for Repeated Questions"
   ]
  },
  {
   "cell_type": "code",
   "execution_count": 6,
   "id": "9f464f89",
   "metadata": {},
   "outputs": [
    {
     "name": "stdout",
     "output_type": "stream",
     "text": [
      "Number of unique questions 29946\n",
      "Number of questions getting repeated 53\n"
     ]
    },
    {
     "data": {
      "image/png": "[encoded data removed]",
      "text/plain": [
       "<Figure size 640x480 with 1 Axes>"
      ]
     },
     "metadata": {},
     "output_type": "display_data"
    }
   ],
   "source": [
    "qid = pd.Series(df['qid1'].tolist() + df['qid2'].tolist())\n",
    "print('Number of unique questions',np.unique(qid).shape[0])\n",
    "x = qid.value_counts()>1\n",
    "print('Number of questions getting repeated',x[x].shape[0])\n",
    "plt.hist(qid.value_counts().values,bins=160)\n",
    "plt.yscale('log')\n",
    "plt.xlabel('Number of Questions')\n",
    "plt.ylabel('Count')\n",
    "plt.show()"
   ]
  },
  {
   "cell_type": "markdown",
   "id": "16920f45",
   "metadata": {},
   "source": [
    "# Feature Engineering"
   ]
  },
  {
   "cell_type": "markdown",
   "id": "269c9575",
   "metadata": {},
   "source": [
    "Feature engineering is a fundamental technique that involves adding new features to a dataset, aiming to enhance the prediction of output variables and improve model accuracy. Crucial features have a direct impact on the model's performance. Feature engineering encompasses various processes such as transformation, scaling, feature extraction, feature encoding, and exploratory data analysis (EDA).\n",
    "\n",
    "In our case, we plan to augment our existing dataset by introducing seven additional features. Leveraging the bag of words model for questions 1 and 2, we will generate distinct features. These newly created features will undergo exploratory data analysis before being incorporated into the machine learning model, contributing to a more robust predictive framework."
   ]
  },
  {
   "cell_type": "markdown",
   "id": "edc10435",
   "metadata": {},
   "source": [
    "#### 1. Question Length"
   ]
  },
  {
   "cell_type": "code",
   "execution_count": 7,
   "id": "60a410d9",
   "metadata": {},
   "outputs": [],
   "source": [
    "df['q1_len'] = df['question1'].str.len()\n",
    "df['q2_len'] = df['question2'].str.len()"
   ]
  },
  {
   "cell_type": "markdown",
   "id": "3a2b51f2",
   "metadata": {},
   "source": [
    "#### 2. Number of Words"
   ]
  },
  {
   "cell_type": "code",
   "execution_count": 8,
   "id": "62bc4354",
   "metadata": {},
   "outputs": [
    {
     "data": {
      "text/html": [
       "<div>\n",
       "<style scoped>\n",
       "    .dataframe tbody tr th:only-of-type {\n",
       "        vertical-align: middle;\n",
       "    }\n",
       "\n",
       "    .dataframe tbody tr th {\n",
       "        vertical-align: top;\n",
       "    }\n",
       "\n",
       "    .dataframe thead th {\n",
       "        text-align: right;\n",
       "    }\n",
       "</style>\n",
       "<table border=\"1\" class=\"dataframe\">\n",
       "  <thead>\n",
       "    <tr style=\"text-align: right;\">\n",
       "      <th></th>\n",
       "      <th>id</th>\n",
       "      <th>qid1</th>\n",
       "      <th>qid2</th>\n",
       "      <th>question1</th>\n",
       "      <th>question2</th>\n",
       "      <th>is_duplicate</th>\n",
       "      <th>q1_len</th>\n",
       "      <th>q2_len</th>\n",
       "      <th>q1_word_count</th>\n",
       "      <th>q2_word_count</th>\n",
       "    </tr>\n",
       "  </thead>\n",
       "  <tbody>\n",
       "    <tr>\n",
       "      <th>5</th>\n",
       "      <td>5</td>\n",
       "      <td>11</td>\n",
       "      <td>12</td>\n",
       "      <td>astrology: i capricorn sun cap moon cap rising...</td>\n",
       "      <td>i tripl capricorn (sun, moon ascend capricorn)...</td>\n",
       "      <td>1</td>\n",
       "      <td>61</td>\n",
       "      <td>59</td>\n",
       "      <td>10</td>\n",
       "      <td>10</td>\n",
       "    </tr>\n",
       "    <tr>\n",
       "      <th>7</th>\n",
       "      <td>7</td>\n",
       "      <td>15</td>\n",
       "      <td>16</td>\n",
       "      <td>how i good geologist?</td>\n",
       "      <td>what i great geologist?</td>\n",
       "      <td>1</td>\n",
       "      <td>21</td>\n",
       "      <td>23</td>\n",
       "      <td>4</td>\n",
       "      <td>4</td>\n",
       "    </tr>\n",
       "    <tr>\n",
       "      <th>11</th>\n",
       "      <td>11</td>\n",
       "      <td>23</td>\n",
       "      <td>24</td>\n",
       "      <td>how i read find youtub comments?</td>\n",
       "      <td>how i see youtub comments?</td>\n",
       "      <td>1</td>\n",
       "      <td>32</td>\n",
       "      <td>26</td>\n",
       "      <td>6</td>\n",
       "      <td>5</td>\n",
       "    </tr>\n",
       "    <tr>\n",
       "      <th>12</th>\n",
       "      <td>12</td>\n",
       "      <td>25</td>\n",
       "      <td>26</td>\n",
       "      <td>what make physic easi learn?</td>\n",
       "      <td>how make physic easi learn?</td>\n",
       "      <td>1</td>\n",
       "      <td>28</td>\n",
       "      <td>27</td>\n",
       "      <td>5</td>\n",
       "      <td>5</td>\n",
       "    </tr>\n",
       "    <tr>\n",
       "      <th>13</th>\n",
       "      <td>13</td>\n",
       "      <td>27</td>\n",
       "      <td>28</td>\n",
       "      <td>what first sexual experi like?</td>\n",
       "      <td>what first sexual experience?</td>\n",
       "      <td>1</td>\n",
       "      <td>30</td>\n",
       "      <td>29</td>\n",
       "      <td>5</td>\n",
       "      <td>4</td>\n",
       "    </tr>\n",
       "  </tbody>\n",
       "</table>\n",
       "</div>"
      ],
      "text/plain": [
       "    id  qid1  qid2                                          question1  \\\n",
       "5    5    11    12  astrology: i capricorn sun cap moon cap rising...   \n",
       "7    7    15    16                              how i good geologist?   \n",
       "11  11    23    24                   how i read find youtub comments?   \n",
       "12  12    25    26                       what make physic easi learn?   \n",
       "13  13    27    28                     what first sexual experi like?   \n",
       "\n",
       "                                            question2  is_duplicate  q1_len  \\\n",
       "5   i tripl capricorn (sun, moon ascend capricorn)...             1      61   \n",
       "7                             what i great geologist?             1      21   \n",
       "11                         how i see youtub comments?             1      32   \n",
       "12                        how make physic easi learn?             1      28   \n",
       "13                      what first sexual experience?             1      30   \n",
       "\n",
       "    q2_len  q1_word_count  q2_word_count  \n",
       "5       59             10             10  \n",
       "7       23              4              4  \n",
       "11      26              6              5  \n",
       "12      27              5              5  \n",
       "13      29              5              4  "
      ]
     },
     "execution_count": 8,
     "metadata": {},
     "output_type": "execute_result"
    }
   ],
   "source": [
    "df['q1_word_count'] = df['question1'].str.split().str.len()\n",
    "df['q2_word_count'] = df['question2'].str.split().str.len()\n",
    "df.head()"
   ]
  },
  {
   "cell_type": "markdown",
   "id": "02807a95",
   "metadata": {},
   "source": [
    "#### 3. Common Word Count"
   ]
  },
  {
   "cell_type": "code",
   "execution_count": 9,
   "id": "bfe96e67",
   "metadata": {},
   "outputs": [
    {
     "data": {
      "text/html": [
       "<div>\n",
       "<style scoped>\n",
       "    .dataframe tbody tr th:only-of-type {\n",
       "        vertical-align: middle;\n",
       "    }\n",
       "\n",
       "    .dataframe tbody tr th {\n",
       "        vertical-align: top;\n",
       "    }\n",
       "\n",
       "    .dataframe thead th {\n",
       "        text-align: right;\n",
       "    }\n",
       "</style>\n",
       "<table border=\"1\" class=\"dataframe\">\n",
       "  <thead>\n",
       "    <tr style=\"text-align: right;\">\n",
       "      <th></th>\n",
       "      <th>id</th>\n",
       "      <th>qid1</th>\n",
       "      <th>qid2</th>\n",
       "      <th>question1</th>\n",
       "      <th>question2</th>\n",
       "      <th>is_duplicate</th>\n",
       "      <th>q1_len</th>\n",
       "      <th>q2_len</th>\n",
       "      <th>q1_word_count</th>\n",
       "      <th>q2_word_count</th>\n",
       "      <th>common_word_count</th>\n",
       "    </tr>\n",
       "  </thead>\n",
       "  <tbody>\n",
       "    <tr>\n",
       "      <th>5</th>\n",
       "      <td>5</td>\n",
       "      <td>11</td>\n",
       "      <td>12</td>\n",
       "      <td>astrology: i capricorn sun cap moon cap rising...</td>\n",
       "      <td>i tripl capricorn (sun, moon ascend capricorn)...</td>\n",
       "      <td>1</td>\n",
       "      <td>61</td>\n",
       "      <td>59</td>\n",
       "      <td>10</td>\n",
       "      <td>10</td>\n",
       "      <td>5</td>\n",
       "    </tr>\n",
       "    <tr>\n",
       "      <th>7</th>\n",
       "      <td>7</td>\n",
       "      <td>15</td>\n",
       "      <td>16</td>\n",
       "      <td>how i good geologist?</td>\n",
       "      <td>what i great geologist?</td>\n",
       "      <td>1</td>\n",
       "      <td>21</td>\n",
       "      <td>23</td>\n",
       "      <td>4</td>\n",
       "      <td>4</td>\n",
       "      <td>2</td>\n",
       "    </tr>\n",
       "    <tr>\n",
       "      <th>11</th>\n",
       "      <td>11</td>\n",
       "      <td>23</td>\n",
       "      <td>24</td>\n",
       "      <td>how i read find youtub comments?</td>\n",
       "      <td>how i see youtub comments?</td>\n",
       "      <td>1</td>\n",
       "      <td>32</td>\n",
       "      <td>26</td>\n",
       "      <td>6</td>\n",
       "      <td>5</td>\n",
       "      <td>4</td>\n",
       "    </tr>\n",
       "    <tr>\n",
       "      <th>12</th>\n",
       "      <td>12</td>\n",
       "      <td>25</td>\n",
       "      <td>26</td>\n",
       "      <td>what make physic easi learn?</td>\n",
       "      <td>how make physic easi learn?</td>\n",
       "      <td>1</td>\n",
       "      <td>28</td>\n",
       "      <td>27</td>\n",
       "      <td>5</td>\n",
       "      <td>5</td>\n",
       "      <td>4</td>\n",
       "    </tr>\n",
       "    <tr>\n",
       "      <th>13</th>\n",
       "      <td>13</td>\n",
       "      <td>27</td>\n",
       "      <td>28</td>\n",
       "      <td>what first sexual experi like?</td>\n",
       "      <td>what first sexual experience?</td>\n",
       "      <td>1</td>\n",
       "      <td>30</td>\n",
       "      <td>29</td>\n",
       "      <td>5</td>\n",
       "      <td>4</td>\n",
       "      <td>3</td>\n",
       "    </tr>\n",
       "  </tbody>\n",
       "</table>\n",
       "</div>"
      ],
      "text/plain": [
       "    id  qid1  qid2                                          question1  \\\n",
       "5    5    11    12  astrology: i capricorn sun cap moon cap rising...   \n",
       "7    7    15    16                              how i good geologist?   \n",
       "11  11    23    24                   how i read find youtub comments?   \n",
       "12  12    25    26                       what make physic easi learn?   \n",
       "13  13    27    28                     what first sexual experi like?   \n",
       "\n",
       "                                            question2  is_duplicate  q1_len  \\\n",
       "5   i tripl capricorn (sun, moon ascend capricorn)...             1      61   \n",
       "7                             what i great geologist?             1      21   \n",
       "11                         how i see youtub comments?             1      32   \n",
       "12                        how make physic easi learn?             1      28   \n",
       "13                      what first sexual experience?             1      30   \n",
       "\n",
       "    q2_len  q1_word_count  q2_word_count  common_word_count  \n",
       "5       59             10             10                  5  \n",
       "7       23              4              4                  2  \n",
       "11      26              6              5                  4  \n",
       "12      27              5              5                  4  \n",
       "13      29              5              4                  3  "
      ]
     },
     "execution_count": 9,
     "metadata": {},
     "output_type": "execute_result"
    }
   ],
   "source": [
    "def common_word_count(x):\n",
    "    q1_words = set(map(lambda word: word.lower().strip(), x['question1'].split(\" \")))\n",
    "    q2_words = set(map(lambda word: word.lower().strip(), x['question2'].split(\" \")))\n",
    "    \n",
    "    return len(q1_words & q2_words)\n",
    "df['common_word_count'] = df.apply(common_word_count, axis=1)\n",
    "df.head()"
   ]
  },
  {
   "cell_type": "markdown",
   "id": "661d74eb",
   "metadata": {},
   "source": [
    "#### 4. Total Words"
   ]
  },
  {
   "cell_type": "code",
   "execution_count": 10,
   "id": "4e36db99",
   "metadata": {},
   "outputs": [
    {
     "data": {
      "text/html": [
       "<div>\n",
       "<style scoped>\n",
       "    .dataframe tbody tr th:only-of-type {\n",
       "        vertical-align: middle;\n",
       "    }\n",
       "\n",
       "    .dataframe tbody tr th {\n",
       "        vertical-align: top;\n",
       "    }\n",
       "\n",
       "    .dataframe thead th {\n",
       "        text-align: right;\n",
       "    }\n",
       "</style>\n",
       "<table border=\"1\" class=\"dataframe\">\n",
       "  <thead>\n",
       "    <tr style=\"text-align: right;\">\n",
       "      <th></th>\n",
       "      <th>id</th>\n",
       "      <th>qid1</th>\n",
       "      <th>qid2</th>\n",
       "      <th>question1</th>\n",
       "      <th>question2</th>\n",
       "      <th>is_duplicate</th>\n",
       "      <th>q1_len</th>\n",
       "      <th>q2_len</th>\n",
       "      <th>q1_word_count</th>\n",
       "      <th>q2_word_count</th>\n",
       "      <th>common_word_count</th>\n",
       "      <th>word_total</th>\n",
       "    </tr>\n",
       "  </thead>\n",
       "  <tbody>\n",
       "    <tr>\n",
       "      <th>5</th>\n",
       "      <td>5</td>\n",
       "      <td>11</td>\n",
       "      <td>12</td>\n",
       "      <td>astrology: i capricorn sun cap moon cap rising...</td>\n",
       "      <td>i tripl capricorn (sun, moon ascend capricorn)...</td>\n",
       "      <td>1</td>\n",
       "      <td>61</td>\n",
       "      <td>59</td>\n",
       "      <td>10</td>\n",
       "      <td>10</td>\n",
       "      <td>5</td>\n",
       "      <td>19</td>\n",
       "    </tr>\n",
       "    <tr>\n",
       "      <th>7</th>\n",
       "      <td>7</td>\n",
       "      <td>15</td>\n",
       "      <td>16</td>\n",
       "      <td>how i good geologist?</td>\n",
       "      <td>what i great geologist?</td>\n",
       "      <td>1</td>\n",
       "      <td>21</td>\n",
       "      <td>23</td>\n",
       "      <td>4</td>\n",
       "      <td>4</td>\n",
       "      <td>2</td>\n",
       "      <td>8</td>\n",
       "    </tr>\n",
       "    <tr>\n",
       "      <th>11</th>\n",
       "      <td>11</td>\n",
       "      <td>23</td>\n",
       "      <td>24</td>\n",
       "      <td>how i read find youtub comments?</td>\n",
       "      <td>how i see youtub comments?</td>\n",
       "      <td>1</td>\n",
       "      <td>32</td>\n",
       "      <td>26</td>\n",
       "      <td>6</td>\n",
       "      <td>5</td>\n",
       "      <td>4</td>\n",
       "      <td>11</td>\n",
       "    </tr>\n",
       "    <tr>\n",
       "      <th>12</th>\n",
       "      <td>12</td>\n",
       "      <td>25</td>\n",
       "      <td>26</td>\n",
       "      <td>what make physic easi learn?</td>\n",
       "      <td>how make physic easi learn?</td>\n",
       "      <td>1</td>\n",
       "      <td>28</td>\n",
       "      <td>27</td>\n",
       "      <td>5</td>\n",
       "      <td>5</td>\n",
       "      <td>4</td>\n",
       "      <td>10</td>\n",
       "    </tr>\n",
       "    <tr>\n",
       "      <th>13</th>\n",
       "      <td>13</td>\n",
       "      <td>27</td>\n",
       "      <td>28</td>\n",
       "      <td>what first sexual experi like?</td>\n",
       "      <td>what first sexual experience?</td>\n",
       "      <td>1</td>\n",
       "      <td>30</td>\n",
       "      <td>29</td>\n",
       "      <td>5</td>\n",
       "      <td>4</td>\n",
       "      <td>3</td>\n",
       "      <td>9</td>\n",
       "    </tr>\n",
       "  </tbody>\n",
       "</table>\n",
       "</div>"
      ],
      "text/plain": [
       "    id  qid1  qid2                                          question1  \\\n",
       "5    5    11    12  astrology: i capricorn sun cap moon cap rising...   \n",
       "7    7    15    16                              how i good geologist?   \n",
       "11  11    23    24                   how i read find youtub comments?   \n",
       "12  12    25    26                       what make physic easi learn?   \n",
       "13  13    27    28                     what first sexual experi like?   \n",
       "\n",
       "                                            question2  is_duplicate  q1_len  \\\n",
       "5   i tripl capricorn (sun, moon ascend capricorn)...             1      61   \n",
       "7                             what i great geologist?             1      21   \n",
       "11                         how i see youtub comments?             1      32   \n",
       "12                        how make physic easi learn?             1      28   \n",
       "13                      what first sexual experience?             1      30   \n",
       "\n",
       "    q2_len  q1_word_count  q2_word_count  common_word_count  word_total  \n",
       "5       59             10             10                  5          19  \n",
       "7       23              4              4                  2           8  \n",
       "11      26              6              5                  4          11  \n",
       "12      27              5              5                  4          10  \n",
       "13      29              5              4                  3           9  "
      ]
     },
     "execution_count": 10,
     "metadata": {},
     "output_type": "execute_result"
    }
   ],
   "source": [
    "def calculate_total_words(row):\n",
    "    words_set_q1 = set(map(lambda word: word.lower().strip(), row['question1'].split(\" \")))\n",
    "    words_set_q2 = set(map(lambda word: word.lower().strip(), row['question2'].split(\" \")))\n",
    "    \n",
    "    total_words = len(words_set_q1) + len(words_set_q2)\n",
    "    \n",
    "    return total_words\n",
    "\n",
    "df['word_total'] = df.apply(calculate_total_words, axis=1)\n",
    "df.head()"
   ]
  },
  {
   "cell_type": "markdown",
   "id": "945d5e4b",
   "metadata": {},
   "source": [
    "#### 5. Words Shared"
   ]
  },
  {
   "cell_type": "code",
   "execution_count": 11,
   "id": "0073b1ee",
   "metadata": {},
   "outputs": [
    {
     "data": {
      "text/html": [
       "<div>\n",
       "<style scoped>\n",
       "    .dataframe tbody tr th:only-of-type {\n",
       "        vertical-align: middle;\n",
       "    }\n",
       "\n",
       "    .dataframe tbody tr th {\n",
       "        vertical-align: top;\n",
       "    }\n",
       "\n",
       "    .dataframe thead th {\n",
       "        text-align: right;\n",
       "    }\n",
       "</style>\n",
       "<table border=\"1\" class=\"dataframe\">\n",
       "  <thead>\n",
       "    <tr style=\"text-align: right;\">\n",
       "      <th></th>\n",
       "      <th>id</th>\n",
       "      <th>qid1</th>\n",
       "      <th>qid2</th>\n",
       "      <th>question1</th>\n",
       "      <th>question2</th>\n",
       "      <th>is_duplicate</th>\n",
       "      <th>q1_len</th>\n",
       "      <th>q2_len</th>\n",
       "      <th>q1_word_count</th>\n",
       "      <th>q2_word_count</th>\n",
       "      <th>common_word_count</th>\n",
       "      <th>word_total</th>\n",
       "      <th>word_shared</th>\n",
       "    </tr>\n",
       "  </thead>\n",
       "  <tbody>\n",
       "    <tr>\n",
       "      <th>5</th>\n",
       "      <td>5</td>\n",
       "      <td>11</td>\n",
       "      <td>12</td>\n",
       "      <td>astrology: i capricorn sun cap moon cap rising...</td>\n",
       "      <td>i tripl capricorn (sun, moon ascend capricorn)...</td>\n",
       "      <td>1</td>\n",
       "      <td>61</td>\n",
       "      <td>59</td>\n",
       "      <td>10</td>\n",
       "      <td>10</td>\n",
       "      <td>5</td>\n",
       "      <td>19</td>\n",
       "      <td>0.26</td>\n",
       "    </tr>\n",
       "    <tr>\n",
       "      <th>7</th>\n",
       "      <td>7</td>\n",
       "      <td>15</td>\n",
       "      <td>16</td>\n",
       "      <td>how i good geologist?</td>\n",
       "      <td>what i great geologist?</td>\n",
       "      <td>1</td>\n",
       "      <td>21</td>\n",
       "      <td>23</td>\n",
       "      <td>4</td>\n",
       "      <td>4</td>\n",
       "      <td>2</td>\n",
       "      <td>8</td>\n",
       "      <td>0.25</td>\n",
       "    </tr>\n",
       "    <tr>\n",
       "      <th>11</th>\n",
       "      <td>11</td>\n",
       "      <td>23</td>\n",
       "      <td>24</td>\n",
       "      <td>how i read find youtub comments?</td>\n",
       "      <td>how i see youtub comments?</td>\n",
       "      <td>1</td>\n",
       "      <td>32</td>\n",
       "      <td>26</td>\n",
       "      <td>6</td>\n",
       "      <td>5</td>\n",
       "      <td>4</td>\n",
       "      <td>11</td>\n",
       "      <td>0.36</td>\n",
       "    </tr>\n",
       "    <tr>\n",
       "      <th>12</th>\n",
       "      <td>12</td>\n",
       "      <td>25</td>\n",
       "      <td>26</td>\n",
       "      <td>what make physic easi learn?</td>\n",
       "      <td>how make physic easi learn?</td>\n",
       "      <td>1</td>\n",
       "      <td>28</td>\n",
       "      <td>27</td>\n",
       "      <td>5</td>\n",
       "      <td>5</td>\n",
       "      <td>4</td>\n",
       "      <td>10</td>\n",
       "      <td>0.40</td>\n",
       "    </tr>\n",
       "    <tr>\n",
       "      <th>13</th>\n",
       "      <td>13</td>\n",
       "      <td>27</td>\n",
       "      <td>28</td>\n",
       "      <td>what first sexual experi like?</td>\n",
       "      <td>what first sexual experience?</td>\n",
       "      <td>1</td>\n",
       "      <td>30</td>\n",
       "      <td>29</td>\n",
       "      <td>5</td>\n",
       "      <td>4</td>\n",
       "      <td>3</td>\n",
       "      <td>9</td>\n",
       "      <td>0.33</td>\n",
       "    </tr>\n",
       "  </tbody>\n",
       "</table>\n",
       "</div>"
      ],
      "text/plain": [
       "    id  qid1  qid2                                          question1  \\\n",
       "5    5    11    12  astrology: i capricorn sun cap moon cap rising...   \n",
       "7    7    15    16                              how i good geologist?   \n",
       "11  11    23    24                   how i read find youtub comments?   \n",
       "12  12    25    26                       what make physic easi learn?   \n",
       "13  13    27    28                     what first sexual experi like?   \n",
       "\n",
       "                                            question2  is_duplicate  q1_len  \\\n",
       "5   i tripl capricorn (sun, moon ascend capricorn)...             1      61   \n",
       "7                             what i great geologist?             1      21   \n",
       "11                         how i see youtub comments?             1      32   \n",
       "12                        how make physic easi learn?             1      28   \n",
       "13                      what first sexual experience?             1      30   \n",
       "\n",
       "    q2_len  q1_word_count  q2_word_count  common_word_count  word_total  \\\n",
       "5       59             10             10                  5          19   \n",
       "7       23              4              4                  2           8   \n",
       "11      26              6              5                  4          11   \n",
       "12      27              5              5                  4          10   \n",
       "13      29              5              4                  3           9   \n",
       "\n",
       "    word_shared  \n",
       "5          0.26  \n",
       "7          0.25  \n",
       "11         0.36  \n",
       "12         0.40  \n",
       "13         0.33  "
      ]
     },
     "execution_count": 11,
     "metadata": {},
     "output_type": "execute_result"
    }
   ],
   "source": [
    "df['word_shared'] = round(df['common_word_count']/df['word_total'], 2)\n",
    "df.head()"
   ]
  },
  {
   "cell_type": "markdown",
   "id": "637b49eb",
   "metadata": {},
   "source": [
    "# Exploratory Data Analysis for Newly Added Features"
   ]
  },
  {
   "cell_type": "code",
   "execution_count": 12,
   "id": "981950cd",
   "metadata": {},
   "outputs": [],
   "source": [
    "# Analyze the relationship between the features"
   ]
  },
  {
   "cell_type": "markdown",
   "id": "9ffa7cb8",
   "metadata": {},
   "source": [
    "#### 1. Distribution of Questions"
   ]
  },
  {
   "cell_type": "code",
   "execution_count": 13,
   "id": "9dd5f949",
   "metadata": {},
   "outputs": [
    {
     "name": "stdout",
     "output_type": "stream",
     "text": [
      "q1: ____________________\n",
      "\t\t\tminimum characters 1\n",
      "\t\t\tmaximum characters 267\n",
      "\t\t\taverage num of characters 39\n"
     ]
    },
    {
     "data": {
      "image/png": "[encoded data removed]",
      "text/plain": [
       "<Figure size 1350x1050 with 1 Axes>"
      ]
     },
     "metadata": {},
     "output_type": "display_data"
    }
   ],
   "source": [
    "print('q1: ____________________')\n",
    "print('\\t\\t\\tminimum characters',df['q1_len'].min())\n",
    "print('\\t\\t\\tmaximum characters',df['q1_len'].max())\n",
    "print('\\t\\t\\taverage num of characters',int(df['q1_len'].mean()))\n",
    "plt.style.use(\"ggplot\")\n",
    "\n",
    "plt.figure(figsize=(9, 7), dpi=150)\n",
    "sns.histplot(df['q1_len'], kde=True)\n",
    "plt.show()"
   ]
  },
  {
   "cell_type": "code",
   "execution_count": 14,
   "id": "0cfbb84c",
   "metadata": {},
   "outputs": [
    {
     "name": "stdout",
     "output_type": "stream",
     "text": [
      "q2:______________________\n",
      "\t\t\tminimum characters 4\n",
      "\t\t\tmaximum characters 699\n",
      "\t\t\taverage num of characters 39\n"
     ]
    },
    {
     "data": {
      "image/png": "[encoded data removed]",
      "text/plain": [
       "<Figure size 1350x1050 with 1 Axes>"
      ]
     },
     "metadata": {},
     "output_type": "display_data"
    }
   ],
   "source": [
    "print('q2:______________________')\n",
    "print('\\t\\t\\tminimum characters',df['q2_len'].min())\n",
    "print('\\t\\t\\tmaximum characters',df['q2_len'].max())\n",
    "print('\\t\\t\\taverage num of characters',int(df['q2_len'].mean()))\n",
    "plt.style.use(\"ggplot\")\n",
    "\n",
    "plt.figure(figsize=(9, 7), dpi=150)\n",
    "sns.histplot(df[df['q2_len']<600]['q2_len'], kde=True)\n",
    "plt.show()"
   ]
  },
  {
   "cell_type": "markdown",
   "id": "1c8dfe09",
   "metadata": {},
   "source": [
    "#### 2. Distribution of the Number of Words"
   ]
  },
  {
   "cell_type": "code",
   "execution_count": 15,
   "id": "f4839697",
   "metadata": {},
   "outputs": [
    {
     "name": "stdout",
     "output_type": "stream",
     "text": [
      "minimum words 1\n",
      "maximum words 47\n",
      "average num of words 6\n"
     ]
    },
    {
     "data": {
      "image/png": "[encoded data removed]",
      "text/plain": [
       "<Figure size 500x500 with 1 Axes>"
      ]
     },
     "metadata": {},
     "output_type": "display_data"
    }
   ],
   "source": [
    "sns.displot(df['q1_word_count'])\n",
    "print('minimum words',df['q1_word_count'].min())\n",
    "print('maximum words',df['q1_word_count'].max())\n",
    "print('average num of words',int(df['q1_word_count'].mean()))"
   ]
  },
  {
   "cell_type": "code",
   "execution_count": 16,
   "id": "0e3a0e12",
   "metadata": {},
   "outputs": [
    {
     "name": "stdout",
     "output_type": "stream",
     "text": [
      "minimum words 1\n",
      "maximum words 125\n",
      "average num of words 6\n"
     ]
    },
    {
     "data": {
      "image/png": "[encoded data removed]",
      "text/plain": [
       "<Figure size 500x500 with 1 Axes>"
      ]
     },
     "metadata": {},
     "output_type": "display_data"
    }
   ],
   "source": [
    "sns.displot(df[df['q2_word_count']<200]['q2_word_count'])\n",
    "print('minimum words',df['q2_word_count'].min())\n",
    "print('maximum words',df['q2_word_count'].max())\n",
    "print('average num of words',int(df['q2_word_count'].mean()))"
   ]
  },
  {
   "cell_type": "markdown",
   "id": "5e8dd5ff",
   "metadata": {},
   "source": [
    "#### 3. Common Word Distribution"
   ]
  },
  {
   "cell_type": "code",
   "execution_count": 17,
   "id": "75b919ed",
   "metadata": {},
   "outputs": [
    {
     "data": {
      "image/png": "[encoded data removed]",
      "text/plain": [
       "<Figure size 640x480 with 1 Axes>"
      ]
     },
     "metadata": {},
     "output_type": "display_data"
    }
   ],
   "source": [
    "sns.histplot(df[df['is_duplicate'] == 0]['common_word_count'], label='non duplicate', kde=True, bins=20)\n",
    "sns.histplot(df[df['is_duplicate'] == 1]['common_word_count'], label='duplicate', kde=True, bins=20)\n",
    "\n",
    "plt.xlabel('Number of Common Words')\n",
    "plt.ylabel('Frequency')\n",
    "plt.title('Distribution of Common Words in Duplicate and Non-Duplicate Pairs')\n",
    "\n",
    "plt.legend()\n",
    "\n",
    "plt.show()"
   ]
  },
  {
   "cell_type": "markdown",
   "id": "3341c267",
   "metadata": {},
   "source": [
    "From the graph, we see that the probability that it will be a duplicate question is more\n",
    "if the number of common words exceeds 4"
   ]
  },
  {
   "cell_type": "markdown",
   "id": "30ed7d66",
   "metadata": {},
   "source": [
    "#### 4. Total Word Analysis"
   ]
  },
  {
   "cell_type": "code",
   "execution_count": 18,
   "id": "3bf7ff15",
   "metadata": {},
   "outputs": [
    {
     "data": {
      "image/png": "[encoded data removed]",
      "text/plain": [
       "<Figure size 640x480 with 1 Axes>"
      ]
     },
     "metadata": {},
     "output_type": "display_data"
    }
   ],
   "source": [
    "sns.histplot(df[df['is_duplicate'] == 0]['word_total'], label='non duplicate', kde=True, bins=20)\n",
    "sns.histplot(df[df['is_duplicate'] == 1]['word_total'], label='duplicate', kde=True, bins=20)\n",
    "\n",
    "plt.xlabel('Total Words')\n",
    "plt.ylabel('Frequency')\n",
    "plt.title('Distribution of Total Words in Duplicate and Non-Duplicate Pairs')\n",
    "\n",
    "plt.legend()\n",
    "\n",
    "plt.show()"
   ]
  },
  {
   "cell_type": "markdown",
   "id": "871f4679",
   "metadata": {},
   "source": [
    "Records are duplicated when the word count is between 0 and 20.\n",
    "For counts exceeding 40, the model strongly prioritizes non-duplicates. "
   ]
  },
  {
   "cell_type": "markdown",
   "id": "17651a9d",
   "metadata": {},
   "source": [
    "#### 5. Word Shared Analysis"
   ]
  },
  {
   "cell_type": "code",
   "execution_count": 19,
   "id": "0c280f83",
   "metadata": {},
   "outputs": [
    {
     "data": {
      "image/png": "[encoded data removed]",
      "text/plain": [
       "<Figure size 640x480 with 1 Axes>"
      ]
     },
     "metadata": {},
     "output_type": "display_data"
    }
   ],
   "source": [
    "sns.histplot(df[df['is_duplicate'] == 0]['word_shared'], label='non duplicate', kde=True, bins=20)\n",
    "sns.histplot(df[df['is_duplicate'] == 1]['word_shared'], label='duplicate', kde=True, bins=20)\n",
    "\n",
    "plt.xlabel('Shared Words')\n",
    "plt.ylabel('Frequency')\n",
    "plt.title('Distribution of Shared Words in Duplicate and Non-Duplicate Pairs')\n",
    "\n",
    "plt.legend()\n",
    "\n",
    "plt.show()"
   ]
  },
  {
   "cell_type": "markdown",
   "id": "ff7ee3cd",
   "metadata": {},
   "source": [
    "Non-duplicates are probable when the words' share value is below 0.2.\n",
    "However, duplication is expected if the word's share value surpasses 0.2."
   ]
  },
  {
   "cell_type": "markdown",
   "id": "8399bbfa",
   "metadata": {},
   "source": [
    "# Machine Learning Model"
   ]
  },
  {
   "cell_type": "markdown",
   "id": "4557e662",
   "metadata": {},
   "source": [
    "#### 1. Separate the Independent and Dependent features"
   ]
  },
  {
   "cell_type": "code",
   "execution_count": 20,
   "id": "a7690dde",
   "metadata": {},
   "outputs": [
    {
     "data": {
      "text/html": [
       "<div>\n",
       "<style scoped>\n",
       "    .dataframe tbody tr th:only-of-type {\n",
       "        vertical-align: middle;\n",
       "    }\n",
       "\n",
       "    .dataframe tbody tr th {\n",
       "        vertical-align: top;\n",
       "    }\n",
       "\n",
       "    .dataframe thead th {\n",
       "        text-align: right;\n",
       "    }\n",
       "</style>\n",
       "<table border=\"1\" class=\"dataframe\">\n",
       "  <thead>\n",
       "    <tr style=\"text-align: right;\">\n",
       "      <th></th>\n",
       "      <th>question1</th>\n",
       "      <th>question2</th>\n",
       "    </tr>\n",
       "  </thead>\n",
       "  <tbody>\n",
       "    <tr>\n",
       "      <th>5</th>\n",
       "      <td>astrology: i capricorn sun cap moon cap rising...</td>\n",
       "      <td>i tripl capricorn (sun, moon ascend capricorn)...</td>\n",
       "    </tr>\n",
       "    <tr>\n",
       "      <th>7</th>\n",
       "      <td>how i good geologist?</td>\n",
       "      <td>what i great geologist?</td>\n",
       "    </tr>\n",
       "    <tr>\n",
       "      <th>11</th>\n",
       "      <td>how i read find youtub comments?</td>\n",
       "      <td>how i see youtub comments?</td>\n",
       "    </tr>\n",
       "    <tr>\n",
       "      <th>12</th>\n",
       "      <td>what make physic easi learn?</td>\n",
       "      <td>how make physic easi learn?</td>\n",
       "    </tr>\n",
       "    <tr>\n",
       "      <th>13</th>\n",
       "      <td>what first sexual experi like?</td>\n",
       "      <td>what first sexual experience?</td>\n",
       "    </tr>\n",
       "  </tbody>\n",
       "</table>\n",
       "</div>"
      ],
      "text/plain": [
       "                                            question1  \\\n",
       "5   astrology: i capricorn sun cap moon cap rising...   \n",
       "7                               how i good geologist?   \n",
       "11                   how i read find youtub comments?   \n",
       "12                       what make physic easi learn?   \n",
       "13                     what first sexual experi like?   \n",
       "\n",
       "                                            question2  \n",
       "5   i tripl capricorn (sun, moon ascend capricorn)...  \n",
       "7                             what i great geologist?  \n",
       "11                         how i see youtub comments?  \n",
       "12                        how make physic easi learn?  \n",
       "13                      what first sexual experience?  "
      ]
     },
     "execution_count": 20,
     "metadata": {},
     "output_type": "execute_result"
    }
   ],
   "source": [
    "ques_df=df[['question1','question2']]\n",
    "ques_df.head()"
   ]
  },
  {
   "cell_type": "code",
   "execution_count": 21,
   "id": "8822d497",
   "metadata": {},
   "outputs": [
    {
     "name": "stdout",
     "output_type": "stream",
     "text": [
      "(15000, 8)\n"
     ]
    },
    {
     "data": {
      "text/html": [
       "<div>\n",
       "<style scoped>\n",
       "    .dataframe tbody tr th:only-of-type {\n",
       "        vertical-align: middle;\n",
       "    }\n",
       "\n",
       "    .dataframe tbody tr th {\n",
       "        vertical-align: top;\n",
       "    }\n",
       "\n",
       "    .dataframe thead th {\n",
       "        text-align: right;\n",
       "    }\n",
       "</style>\n",
       "<table border=\"1\" class=\"dataframe\">\n",
       "  <thead>\n",
       "    <tr style=\"text-align: right;\">\n",
       "      <th></th>\n",
       "      <th>is_duplicate</th>\n",
       "      <th>q1_len</th>\n",
       "      <th>q2_len</th>\n",
       "      <th>q1_word_count</th>\n",
       "      <th>q2_word_count</th>\n",
       "      <th>common_word_count</th>\n",
       "      <th>word_total</th>\n",
       "      <th>word_shared</th>\n",
       "    </tr>\n",
       "  </thead>\n",
       "  <tbody>\n",
       "    <tr>\n",
       "      <th>5</th>\n",
       "      <td>1</td>\n",
       "      <td>61</td>\n",
       "      <td>59</td>\n",
       "      <td>10</td>\n",
       "      <td>10</td>\n",
       "      <td>5</td>\n",
       "      <td>19</td>\n",
       "      <td>0.26</td>\n",
       "    </tr>\n",
       "    <tr>\n",
       "      <th>7</th>\n",
       "      <td>1</td>\n",
       "      <td>21</td>\n",
       "      <td>23</td>\n",
       "      <td>4</td>\n",
       "      <td>4</td>\n",
       "      <td>2</td>\n",
       "      <td>8</td>\n",
       "      <td>0.25</td>\n",
       "    </tr>\n",
       "    <tr>\n",
       "      <th>11</th>\n",
       "      <td>1</td>\n",
       "      <td>32</td>\n",
       "      <td>26</td>\n",
       "      <td>6</td>\n",
       "      <td>5</td>\n",
       "      <td>4</td>\n",
       "      <td>11</td>\n",
       "      <td>0.36</td>\n",
       "    </tr>\n",
       "    <tr>\n",
       "      <th>12</th>\n",
       "      <td>1</td>\n",
       "      <td>28</td>\n",
       "      <td>27</td>\n",
       "      <td>5</td>\n",
       "      <td>5</td>\n",
       "      <td>4</td>\n",
       "      <td>10</td>\n",
       "      <td>0.40</td>\n",
       "    </tr>\n",
       "    <tr>\n",
       "      <th>13</th>\n",
       "      <td>1</td>\n",
       "      <td>30</td>\n",
       "      <td>29</td>\n",
       "      <td>5</td>\n",
       "      <td>4</td>\n",
       "      <td>3</td>\n",
       "      <td>9</td>\n",
       "      <td>0.33</td>\n",
       "    </tr>\n",
       "  </tbody>\n",
       "</table>\n",
       "</div>"
      ],
      "text/plain": [
       "    is_duplicate  q1_len  q2_len  q1_word_count  q2_word_count  \\\n",
       "5              1      61      59             10             10   \n",
       "7              1      21      23              4              4   \n",
       "11             1      32      26              6              5   \n",
       "12             1      28      27              5              5   \n",
       "13             1      30      29              5              4   \n",
       "\n",
       "    common_word_count  word_total  word_shared  \n",
       "5                   5          19         0.26  \n",
       "7                   2           8         0.25  \n",
       "11                  4          11         0.36  \n",
       "12                  4          10         0.40  \n",
       "13                  3           9         0.33  "
      ]
     },
     "execution_count": 21,
     "metadata": {},
     "output_type": "execute_result"
    }
   ],
   "source": [
    "final_df=df.drop(columns=['id','qid1','qid2','question1','question2'])\n",
    "print(final_df.shape)\n",
    "final_df.head()"
   ]
  },
  {
   "cell_type": "markdown",
   "id": "f3a8a842",
   "metadata": {},
   "source": [
    "#### 2. Vectorizing the Feature"
   ]
  },
  {
   "cell_type": "code",
   "execution_count": 22,
   "id": "91a476a8",
   "metadata": {},
   "outputs": [
    {
     "data": {
      "text/html": [
       "<div>\n",
       "<style scoped>\n",
       "    .dataframe tbody tr th:only-of-type {\n",
       "        vertical-align: middle;\n",
       "    }\n",
       "\n",
       "    .dataframe tbody tr th {\n",
       "        vertical-align: top;\n",
       "    }\n",
       "\n",
       "    .dataframe thead th {\n",
       "        text-align: right;\n",
       "    }\n",
       "</style>\n",
       "<table border=\"1\" class=\"dataframe\">\n",
       "  <thead>\n",
       "    <tr style=\"text-align: right;\">\n",
       "      <th></th>\n",
       "      <th>0</th>\n",
       "      <th>1</th>\n",
       "      <th>2</th>\n",
       "      <th>3</th>\n",
       "      <th>4</th>\n",
       "      <th>5</th>\n",
       "      <th>6</th>\n",
       "      <th>7</th>\n",
       "      <th>8</th>\n",
       "      <th>9</th>\n",
       "      <th>...</th>\n",
       "      <th>2990</th>\n",
       "      <th>2991</th>\n",
       "      <th>2992</th>\n",
       "      <th>2993</th>\n",
       "      <th>2994</th>\n",
       "      <th>2995</th>\n",
       "      <th>2996</th>\n",
       "      <th>2997</th>\n",
       "      <th>2998</th>\n",
       "      <th>2999</th>\n",
       "    </tr>\n",
       "  </thead>\n",
       "  <tbody>\n",
       "    <tr>\n",
       "      <th>5</th>\n",
       "      <td>0</td>\n",
       "      <td>0</td>\n",
       "      <td>0</td>\n",
       "      <td>0</td>\n",
       "      <td>0</td>\n",
       "      <td>0</td>\n",
       "      <td>0</td>\n",
       "      <td>0</td>\n",
       "      <td>0</td>\n",
       "      <td>0</td>\n",
       "      <td>...</td>\n",
       "      <td>0</td>\n",
       "      <td>0</td>\n",
       "      <td>0</td>\n",
       "      <td>0</td>\n",
       "      <td>0</td>\n",
       "      <td>0</td>\n",
       "      <td>0</td>\n",
       "      <td>0</td>\n",
       "      <td>0</td>\n",
       "      <td>0</td>\n",
       "    </tr>\n",
       "    <tr>\n",
       "      <th>7</th>\n",
       "      <td>0</td>\n",
       "      <td>0</td>\n",
       "      <td>0</td>\n",
       "      <td>0</td>\n",
       "      <td>0</td>\n",
       "      <td>0</td>\n",
       "      <td>0</td>\n",
       "      <td>0</td>\n",
       "      <td>0</td>\n",
       "      <td>0</td>\n",
       "      <td>...</td>\n",
       "      <td>0</td>\n",
       "      <td>0</td>\n",
       "      <td>0</td>\n",
       "      <td>0</td>\n",
       "      <td>0</td>\n",
       "      <td>0</td>\n",
       "      <td>0</td>\n",
       "      <td>0</td>\n",
       "      <td>0</td>\n",
       "      <td>0</td>\n",
       "    </tr>\n",
       "    <tr>\n",
       "      <th>11</th>\n",
       "      <td>0</td>\n",
       "      <td>0</td>\n",
       "      <td>0</td>\n",
       "      <td>0</td>\n",
       "      <td>0</td>\n",
       "      <td>0</td>\n",
       "      <td>0</td>\n",
       "      <td>0</td>\n",
       "      <td>0</td>\n",
       "      <td>0</td>\n",
       "      <td>...</td>\n",
       "      <td>0</td>\n",
       "      <td>0</td>\n",
       "      <td>0</td>\n",
       "      <td>0</td>\n",
       "      <td>0</td>\n",
       "      <td>1</td>\n",
       "      <td>0</td>\n",
       "      <td>0</td>\n",
       "      <td>0</td>\n",
       "      <td>0</td>\n",
       "    </tr>\n",
       "    <tr>\n",
       "      <th>12</th>\n",
       "      <td>0</td>\n",
       "      <td>0</td>\n",
       "      <td>0</td>\n",
       "      <td>0</td>\n",
       "      <td>0</td>\n",
       "      <td>0</td>\n",
       "      <td>0</td>\n",
       "      <td>0</td>\n",
       "      <td>0</td>\n",
       "      <td>0</td>\n",
       "      <td>...</td>\n",
       "      <td>0</td>\n",
       "      <td>0</td>\n",
       "      <td>0</td>\n",
       "      <td>0</td>\n",
       "      <td>0</td>\n",
       "      <td>0</td>\n",
       "      <td>0</td>\n",
       "      <td>0</td>\n",
       "      <td>0</td>\n",
       "      <td>0</td>\n",
       "    </tr>\n",
       "    <tr>\n",
       "      <th>13</th>\n",
       "      <td>0</td>\n",
       "      <td>0</td>\n",
       "      <td>0</td>\n",
       "      <td>0</td>\n",
       "      <td>0</td>\n",
       "      <td>0</td>\n",
       "      <td>0</td>\n",
       "      <td>0</td>\n",
       "      <td>0</td>\n",
       "      <td>0</td>\n",
       "      <td>...</td>\n",
       "      <td>0</td>\n",
       "      <td>0</td>\n",
       "      <td>0</td>\n",
       "      <td>0</td>\n",
       "      <td>0</td>\n",
       "      <td>0</td>\n",
       "      <td>0</td>\n",
       "      <td>0</td>\n",
       "      <td>0</td>\n",
       "      <td>0</td>\n",
       "    </tr>\n",
       "  </tbody>\n",
       "</table>\n",
       "<p>5 rows × 6000 columns</p>\n",
       "</div>"
      ],
      "text/plain": [
       "    0     1     2     3     4     5     6     7     8     9     ...  2990  \\\n",
       "5      0     0     0     0     0     0     0     0     0     0  ...     0   \n",
       "7      0     0     0     0     0     0     0     0     0     0  ...     0   \n",
       "11     0     0     0     0     0     0     0     0     0     0  ...     0   \n",
       "12     0     0     0     0     0     0     0     0     0     0  ...     0   \n",
       "13     0     0     0     0     0     0     0     0     0     0  ...     0   \n",
       "\n",
       "    2991  2992  2993  2994  2995  2996  2997  2998  2999  \n",
       "5      0     0     0     0     0     0     0     0     0  \n",
       "7      0     0     0     0     0     0     0     0     0  \n",
       "11     0     0     0     0     1     0     0     0     0  \n",
       "12     0     0     0     0     0     0     0     0     0  \n",
       "13     0     0     0     0     0     0     0     0     0  \n",
       "\n",
       "[5 rows x 6000 columns]"
      ]
     },
     "execution_count": 22,
     "metadata": {},
     "output_type": "execute_result"
    }
   ],
   "source": [
    "from sklearn.feature_extraction.text import CountVectorizer\n",
    "\n",
    "questions = list(ques_df['question1']) + list(ques_df['question2'])\n",
    "\n",
    "cv = CountVectorizer(max_features=3000)\n",
    "q1_arr, q2_arr = np.vsplit(cv.fit_transform(questions).toarray(),2)\n",
    "\n",
    "temp1=pd.DataFrame(q1_arr,index=ques_df.index)\n",
    "temp2=pd.DataFrame(q2_arr,index=ques_df.index)\n",
    "\n",
    "temp=pd.concat([temp1,temp2],axis=1)\n",
    "\n",
    "temp.head()"
   ]
  },
  {
   "cell_type": "code",
   "execution_count": 23,
   "id": "e530087c",
   "metadata": {},
   "outputs": [
    {
     "data": {
      "text/html": [
       "<div>\n",
       "<style scoped>\n",
       "    .dataframe tbody tr th:only-of-type {\n",
       "        vertical-align: middle;\n",
       "    }\n",
       "\n",
       "    .dataframe tbody tr th {\n",
       "        vertical-align: top;\n",
       "    }\n",
       "\n",
       "    .dataframe thead th {\n",
       "        text-align: right;\n",
       "    }\n",
       "</style>\n",
       "<table border=\"1\" class=\"dataframe\">\n",
       "  <thead>\n",
       "    <tr style=\"text-align: right;\">\n",
       "      <th></th>\n",
       "      <th>is_duplicate</th>\n",
       "      <th>q1_len</th>\n",
       "      <th>q2_len</th>\n",
       "      <th>q1_word_count</th>\n",
       "      <th>q2_word_count</th>\n",
       "      <th>common_word_count</th>\n",
       "      <th>word_total</th>\n",
       "      <th>word_shared</th>\n",
       "    </tr>\n",
       "  </thead>\n",
       "  <tbody>\n",
       "    <tr>\n",
       "      <th>5</th>\n",
       "      <td>1</td>\n",
       "      <td>0.225564</td>\n",
       "      <td>0.079137</td>\n",
       "      <td>0.195652</td>\n",
       "      <td>0.072581</td>\n",
       "      <td>0.263158</td>\n",
       "      <td>0.157407</td>\n",
       "      <td>0.52</td>\n",
       "    </tr>\n",
       "    <tr>\n",
       "      <th>7</th>\n",
       "      <td>1</td>\n",
       "      <td>0.075188</td>\n",
       "      <td>0.027338</td>\n",
       "      <td>0.065217</td>\n",
       "      <td>0.024194</td>\n",
       "      <td>0.105263</td>\n",
       "      <td>0.055556</td>\n",
       "      <td>0.50</td>\n",
       "    </tr>\n",
       "    <tr>\n",
       "      <th>11</th>\n",
       "      <td>1</td>\n",
       "      <td>0.116541</td>\n",
       "      <td>0.031655</td>\n",
       "      <td>0.108696</td>\n",
       "      <td>0.032258</td>\n",
       "      <td>0.210526</td>\n",
       "      <td>0.083333</td>\n",
       "      <td>0.72</td>\n",
       "    </tr>\n",
       "    <tr>\n",
       "      <th>12</th>\n",
       "      <td>1</td>\n",
       "      <td>0.101504</td>\n",
       "      <td>0.033094</td>\n",
       "      <td>0.086957</td>\n",
       "      <td>0.032258</td>\n",
       "      <td>0.210526</td>\n",
       "      <td>0.074074</td>\n",
       "      <td>0.80</td>\n",
       "    </tr>\n",
       "    <tr>\n",
       "      <th>13</th>\n",
       "      <td>1</td>\n",
       "      <td>0.109023</td>\n",
       "      <td>0.035971</td>\n",
       "      <td>0.086957</td>\n",
       "      <td>0.024194</td>\n",
       "      <td>0.157895</td>\n",
       "      <td>0.064815</td>\n",
       "      <td>0.66</td>\n",
       "    </tr>\n",
       "  </tbody>\n",
       "</table>\n",
       "</div>"
      ],
      "text/plain": [
       "    is_duplicate    q1_len    q2_len  q1_word_count  q2_word_count  \\\n",
       "5              1  0.225564  0.079137       0.195652       0.072581   \n",
       "7              1  0.075188  0.027338       0.065217       0.024194   \n",
       "11             1  0.116541  0.031655       0.108696       0.032258   \n",
       "12             1  0.101504  0.033094       0.086957       0.032258   \n",
       "13             1  0.109023  0.035971       0.086957       0.024194   \n",
       "\n",
       "    common_word_count  word_total  word_shared  \n",
       "5            0.263158    0.157407         0.52  \n",
       "7            0.105263    0.055556         0.50  \n",
       "11           0.210526    0.083333         0.72  \n",
       "12           0.210526    0.074074         0.80  \n",
       "13           0.157895    0.064815         0.66  "
      ]
     },
     "execution_count": 23,
     "metadata": {},
     "output_type": "execute_result"
    }
   ],
   "source": [
    "from sklearn.preprocessing import MinMaxScaler\n",
    "features_to_scale = final_df.columns[1:]\n",
    "scaler = MinMaxScaler()\n",
    "final_df[features_to_scale] = scaler.fit_transform(final_df[features_to_scale])\n",
    "final_df.head()"
   ]
  },
  {
   "cell_type": "code",
   "execution_count": 24,
   "id": "7abef4b0",
   "metadata": {},
   "outputs": [
    {
     "name": "stdout",
     "output_type": "stream",
     "text": [
      "(15000, 6008)\n"
     ]
    },
    {
     "data": {
      "text/html": [
       "<div>\n",
       "<style scoped>\n",
       "    .dataframe tbody tr th:only-of-type {\n",
       "        vertical-align: middle;\n",
       "    }\n",
       "\n",
       "    .dataframe tbody tr th {\n",
       "        vertical-align: top;\n",
       "    }\n",
       "\n",
       "    .dataframe thead th {\n",
       "        text-align: right;\n",
       "    }\n",
       "</style>\n",
       "<table border=\"1\" class=\"dataframe\">\n",
       "  <thead>\n",
       "    <tr style=\"text-align: right;\">\n",
       "      <th></th>\n",
       "      <th>is_duplicate</th>\n",
       "      <th>q1_len</th>\n",
       "      <th>q2_len</th>\n",
       "      <th>q1_word_count</th>\n",
       "      <th>q2_word_count</th>\n",
       "      <th>common_word_count</th>\n",
       "      <th>word_total</th>\n",
       "      <th>word_shared</th>\n",
       "      <th>0</th>\n",
       "      <th>1</th>\n",
       "      <th>...</th>\n",
       "      <th>2990</th>\n",
       "      <th>2991</th>\n",
       "      <th>2992</th>\n",
       "      <th>2993</th>\n",
       "      <th>2994</th>\n",
       "      <th>2995</th>\n",
       "      <th>2996</th>\n",
       "      <th>2997</th>\n",
       "      <th>2998</th>\n",
       "      <th>2999</th>\n",
       "    </tr>\n",
       "  </thead>\n",
       "  <tbody>\n",
       "    <tr>\n",
       "      <th>5</th>\n",
       "      <td>1</td>\n",
       "      <td>0.225564</td>\n",
       "      <td>0.079137</td>\n",
       "      <td>0.195652</td>\n",
       "      <td>0.072581</td>\n",
       "      <td>0.263158</td>\n",
       "      <td>0.157407</td>\n",
       "      <td>0.52</td>\n",
       "      <td>0</td>\n",
       "      <td>0</td>\n",
       "      <td>...</td>\n",
       "      <td>0</td>\n",
       "      <td>0</td>\n",
       "      <td>0</td>\n",
       "      <td>0</td>\n",
       "      <td>0</td>\n",
       "      <td>0</td>\n",
       "      <td>0</td>\n",
       "      <td>0</td>\n",
       "      <td>0</td>\n",
       "      <td>0</td>\n",
       "    </tr>\n",
       "    <tr>\n",
       "      <th>7</th>\n",
       "      <td>1</td>\n",
       "      <td>0.075188</td>\n",
       "      <td>0.027338</td>\n",
       "      <td>0.065217</td>\n",
       "      <td>0.024194</td>\n",
       "      <td>0.105263</td>\n",
       "      <td>0.055556</td>\n",
       "      <td>0.50</td>\n",
       "      <td>0</td>\n",
       "      <td>0</td>\n",
       "      <td>...</td>\n",
       "      <td>0</td>\n",
       "      <td>0</td>\n",
       "      <td>0</td>\n",
       "      <td>0</td>\n",
       "      <td>0</td>\n",
       "      <td>0</td>\n",
       "      <td>0</td>\n",
       "      <td>0</td>\n",
       "      <td>0</td>\n",
       "      <td>0</td>\n",
       "    </tr>\n",
       "    <tr>\n",
       "      <th>11</th>\n",
       "      <td>1</td>\n",
       "      <td>0.116541</td>\n",
       "      <td>0.031655</td>\n",
       "      <td>0.108696</td>\n",
       "      <td>0.032258</td>\n",
       "      <td>0.210526</td>\n",
       "      <td>0.083333</td>\n",
       "      <td>0.72</td>\n",
       "      <td>0</td>\n",
       "      <td>0</td>\n",
       "      <td>...</td>\n",
       "      <td>0</td>\n",
       "      <td>0</td>\n",
       "      <td>0</td>\n",
       "      <td>0</td>\n",
       "      <td>0</td>\n",
       "      <td>1</td>\n",
       "      <td>0</td>\n",
       "      <td>0</td>\n",
       "      <td>0</td>\n",
       "      <td>0</td>\n",
       "    </tr>\n",
       "    <tr>\n",
       "      <th>12</th>\n",
       "      <td>1</td>\n",
       "      <td>0.101504</td>\n",
       "      <td>0.033094</td>\n",
       "      <td>0.086957</td>\n",
       "      <td>0.032258</td>\n",
       "      <td>0.210526</td>\n",
       "      <td>0.074074</td>\n",
       "      <td>0.80</td>\n",
       "      <td>0</td>\n",
       "      <td>0</td>\n",
       "      <td>...</td>\n",
       "      <td>0</td>\n",
       "      <td>0</td>\n",
       "      <td>0</td>\n",
       "      <td>0</td>\n",
       "      <td>0</td>\n",
       "      <td>0</td>\n",
       "      <td>0</td>\n",
       "      <td>0</td>\n",
       "      <td>0</td>\n",
       "      <td>0</td>\n",
       "    </tr>\n",
       "    <tr>\n",
       "      <th>13</th>\n",
       "      <td>1</td>\n",
       "      <td>0.109023</td>\n",
       "      <td>0.035971</td>\n",
       "      <td>0.086957</td>\n",
       "      <td>0.024194</td>\n",
       "      <td>0.157895</td>\n",
       "      <td>0.064815</td>\n",
       "      <td>0.66</td>\n",
       "      <td>0</td>\n",
       "      <td>0</td>\n",
       "      <td>...</td>\n",
       "      <td>0</td>\n",
       "      <td>0</td>\n",
       "      <td>0</td>\n",
       "      <td>0</td>\n",
       "      <td>0</td>\n",
       "      <td>0</td>\n",
       "      <td>0</td>\n",
       "      <td>0</td>\n",
       "      <td>0</td>\n",
       "      <td>0</td>\n",
       "    </tr>\n",
       "  </tbody>\n",
       "</table>\n",
       "<p>5 rows × 6008 columns</p>\n",
       "</div>"
      ],
      "text/plain": [
       "    is_duplicate    q1_len    q2_len  q1_word_count  q2_word_count  \\\n",
       "5              1  0.225564  0.079137       0.195652       0.072581   \n",
       "7              1  0.075188  0.027338       0.065217       0.024194   \n",
       "11             1  0.116541  0.031655       0.108696       0.032258   \n",
       "12             1  0.101504  0.033094       0.086957       0.032258   \n",
       "13             1  0.109023  0.035971       0.086957       0.024194   \n",
       "\n",
       "    common_word_count  word_total  word_shared  0  1  ...  2990  2991  2992  \\\n",
       "5            0.263158    0.157407         0.52  0  0  ...     0     0     0   \n",
       "7            0.105263    0.055556         0.50  0  0  ...     0     0     0   \n",
       "11           0.210526    0.083333         0.72  0  0  ...     0     0     0   \n",
       "12           0.210526    0.074074         0.80  0  0  ...     0     0     0   \n",
       "13           0.157895    0.064815         0.66  0  0  ...     0     0     0   \n",
       "\n",
       "    2993  2994  2995  2996  2997  2998  2999  \n",
       "5      0     0     0     0     0     0     0  \n",
       "7      0     0     0     0     0     0     0  \n",
       "11     0     0     1     0     0     0     0  \n",
       "12     0     0     0     0     0     0     0  \n",
       "13     0     0     0     0     0     0     0  \n",
       "\n",
       "[5 rows x 6008 columns]"
      ]
     },
     "execution_count": 24,
     "metadata": {},
     "output_type": "execute_result"
    }
   ],
   "source": [
    "final_df=pd.concat([final_df,temp],axis=1)\n",
    "print(final_df.shape)\n",
    "final_df.head()"
   ]
  },
  {
   "cell_type": "markdown",
   "id": "9d8215dc",
   "metadata": {},
   "source": [
    "#### 3. Train-Test-Split"
   ]
  },
  {
   "cell_type": "code",
   "execution_count": 25,
   "id": "3f7e9030",
   "metadata": {},
   "outputs": [],
   "source": [
    "X = final_df.iloc[:,1:].values\n",
    "y = final_df.iloc[:,0].values"
   ]
  },
  {
   "cell_type": "code",
   "execution_count": 26,
   "id": "572b928b",
   "metadata": {},
   "outputs": [],
   "source": [
    "from sklearn.model_selection import train_test_split\n",
    "X_train,X_test,y_train,y_test = train_test_split(X,\n",
    "                                                 y,\n",
    "                                                 test_size=0.2,\n",
    "                                                 random_state=1)"
   ]
  },
  {
   "cell_type": "code",
   "execution_count": 27,
   "id": "b3f11894",
   "metadata": {},
   "outputs": [],
   "source": [
    "from sklearn.ensemble import RandomForestClassifier\n",
    "from sklearn.metrics import accuracy_score\n",
    "clf = RandomForestClassifier()\n",
    "clf.fit(X_train,y_train)\n",
    "\n",
    "y_pred_train = clf.predict(X_train)\n",
    "y_pred_test = clf.predict(X_test)"
   ]
  },
  {
   "cell_type": "code",
   "execution_count": 28,
   "id": "749b0b8d",
   "metadata": {},
   "outputs": [
    {
     "name": "stdout",
     "output_type": "stream",
     "text": [
      "0.9996666666666667\n",
      "0.776\n"
     ]
    }
   ],
   "source": [
    "print(accuracy_score(y_train, y_pred_train))\n",
    "print(accuracy_score(y_test,y_pred_test))"
   ]
  },
  {
   "cell_type": "markdown",
   "id": "31834cb9",
   "metadata": {},
   "source": [
    "#### OVERFITTING !!!!"
   ]
  },
  {
   "cell_type": "code",
   "execution_count": 29,
   "id": "70a68481",
   "metadata": {},
   "outputs": [],
   "source": [
    "# from sklearn.model_selection import GridSearchCV\n",
    "# param_grid = {\n",
    "#     'n_estimators': [50, 100, 200],\n",
    "#     'max_depth': [None, 10, 20],\n",
    "#     'min_samples_leaf': [1, 2, 4],\n",
    "# }\n",
    "\n",
    "# grid_search = GridSearchCV(estimator=RandomForestClassifier(), param_grid=param_grid, scoring='accuracy')\n",
    "# grid_search.fit(X_train, y_train)\n",
    "# best_params = grid_search.best_params_\n",
    "# best_clf = grid_search.best_estimator_\n",
    "# print(\"Best Parameters:\", best_params)\n",
    "# y_pred_test_tuned = best_clf.predict(X_test)\n",
    "# accuracy_tuned = accuracy_score(y_test, y_pred_test_tuned)\n",
    "# print(\"Accuracy after tuning:\", accuracy_tuned)"
   ]
  },
  {
   "cell_type": "code",
   "execution_count": 30,
   "id": "1cdcde6c",
   "metadata": {},
   "outputs": [],
   "source": [
    "from xgboost import XGBClassifier\n",
    "xgb = XGBClassifier()\n",
    "xgb.fit(X_train,y_train)\n",
    "y_pred_train = xgb.predict(X_train)\n",
    "y_pred_test = xgb.predict(X_test)"
   ]
  },
  {
   "cell_type": "code",
   "execution_count": 31,
   "id": "f3ef3495",
   "metadata": {},
   "outputs": [
    {
     "name": "stdout",
     "output_type": "stream",
     "text": [
      "0.8251666666666667\n",
      "0.7673333333333333\n"
     ]
    }
   ],
   "source": [
    "print(accuracy_score(y_train, y_pred_train))\n",
    "print(accuracy_score(y_test,y_pred_test))"
   ]
  },
  {
   "cell_type": "code",
   "execution_count": 32,
   "id": "f9ccf33d",
   "metadata": {},
   "outputs": [],
   "source": [
    "from sklearn.tree import DecisionTreeClassifier\n",
    "from sklearn.metrics import accuracy_score\n",
    "\n",
    "dtc = DecisionTreeClassifier()\n",
    "dtc.fit(X_train, y_train)\n",
    "y_pred_train = dtc.predict(X_train)\n",
    "y_pred_test = dtc.predict(X_test)"
   ]
  },
  {
   "cell_type": "code",
   "execution_count": 33,
   "id": "d44a5f48",
   "metadata": {},
   "outputs": [
    {
     "name": "stdout",
     "output_type": "stream",
     "text": [
      "0.9996666666666667\n",
      "0.7173333333333334\n"
     ]
    }
   ],
   "source": [
    "print(accuracy_score(y_pred_train, y_train))\n",
    "print(accuracy_score(y_pred_test, y_test))\n"
   ]
  },
  {
   "cell_type": "code",
   "execution_count": 34,
   "id": "7f35c3dd",
   "metadata": {},
   "outputs": [],
   "source": [
    "from sklearn.ensemble import AdaBoostClassifier\n",
    "\n",
    "abc = AdaBoostClassifier()\n",
    "abc.fit(X_train, y_train)\n",
    "y_pred_train = abc.predict(X_train)\n",
    "y_pred_test = abc.predict(X_test)"
   ]
  },
  {
   "cell_type": "code",
   "execution_count": 35,
   "id": "0e0bda57",
   "metadata": {},
   "outputs": [
    {
     "name": "stdout",
     "output_type": "stream",
     "text": [
      "0.7466666666666667\n",
      "0.7316666666666667\n"
     ]
    }
   ],
   "source": [
    "print(accuracy_score(y_pred_train, y_train))\n",
    "print(accuracy_score(y_pred_test, y_test))"
   ]
  },
  {
   "cell_type": "code",
   "execution_count": null,
   "id": "88566c75",
   "metadata": {},
   "outputs": [],
   "source": []
  }
 ],
 "metadata": {
  "kernelspec": {
   "display_name": "Python 3 (ipykernel)",
   "language": "python",
   "name": "python3"
  },
  "language_info": {
   "codemirror_mode": {
    "name": "ipython",
    "version": 3
   },
   "file_extension": ".py",
   "mimetype": "text/x-python",
   "name": "python",
   "nbconvert_exporter": "python",
   "pygments_lexer": "ipython3",
   "version": "3.11.5"
  }
 },
 "nbformat": 4,
 "nbformat_minor": 5
}
